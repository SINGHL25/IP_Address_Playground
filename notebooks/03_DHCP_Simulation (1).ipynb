{
  "cells": [
    {
      "cell_type": "markdown",
      "metadata": {
        "id": "Uh-xnjZmYwW0"
      },
      "source": [
        "# 🖧 DHCP Simulation Notebook\n",
        "This notebook explains **Dynamic Host Configuration Protocol (DHCP)** and simulates how IP addresses are dynamically assigned, renewed, and released in a network."
      ],
      "id": "Uh-xnjZmYwW0"
    },
    {
      "cell_type": "markdown",
      "metadata": {
        "id": "uFnUwxH1YwW3"
      },
      "source": [
        "## 1. What is DHCP?\n",
        "- DHCP is used to **automatically assign IP addresses** to devices on a network.\n",
        "- Without DHCP, admins would need to manually configure IPs.\n",
        "- DHCP automates:\n",
        "  - IP address assignment\n",
        "  - Subnet mask\n",
        "  - Default gateway\n",
        "  - DNS servers"
      ],
      "id": "uFnUwxH1YwW3"
    },
    {
      "cell_type": "markdown",
      "metadata": {
        "id": "4AzUJvxjYwW4"
      },
      "source": [
        "## 2. DHCP Workflow (DORA Process)\n",
        "DHCP uses a 4-step process, often called **DORA**:\n",
        "1. **Discover** – Client broadcasts a request for an IP.\n",
        "2. **Offer** – DHCP server offers an available IP.\n",
        "3. **Request** – Client requests the offered IP.\n",
        "4. **Acknowledge** – DHCP server confirms and leases the IP."
      ],
      "id": "4AzUJvxjYwW4"
    },
    {
      "cell_type": "code",
      "execution_count": 1,
      "metadata": {
        "id": "iaWIYfCbYwW4"
      },
      "outputs": [],
      "source": [
        "import random\n",
        "\n",
        "class DHCPServer:\n",
        "    def __init__(self, ip_pool):\n",
        "        self.ip_pool = ip_pool\n",
        "        self.leased_ips = {}\n",
        "\n",
        "    def discover(self, client_id):\n",
        "        print(f\"Client {client_id} -> DHCP Discover\")\n",
        "        return self.offer(client_id)\n",
        "\n",
        "    def offer(self, client_id):\n",
        "        available_ips = [ip for ip in self.ip_pool if ip not in self.leased_ips.values()]\n",
        "        if not available_ips:\n",
        "            return None\n",
        "        offered_ip = random.choice(available_ips)\n",
        "        print(f\"DHCP Server -> Offer {offered_ip} to Client {client_id}\")\n",
        "        return offered_ip\n",
        "\n",
        "    def request(self, client_id, ip):\n",
        "        print(f\"Client {client_id} -> Request {ip}\")\n",
        "        return self.acknowledge(client_id, ip)\n",
        "\n",
        "    def acknowledge(self, client_id, ip):\n",
        "        self.leased_ips[client_id] = ip\n",
        "        print(f\"DHCP Server -> Acknowledge {ip} for Client {client_id}\")\n",
        "        return ip\n",
        "\n",
        "    def release(self, client_id):\n",
        "        if client_id in self.leased_ips:\n",
        "            print(f\"Client {client_id} released {self.leased_ips[client_id]}\")\n",
        "            del self.leased_ips[client_id]\n",
        "        else:\n",
        "            print(f\"Client {client_id} has no leased IP.\")"
      ],
      "id": "iaWIYfCbYwW4"
    },
    {
      "cell_type": "markdown",
      "metadata": {
        "id": "37AUuDJWYwW5"
      },
      "source": [
        "## 3. Simulating DHCP with Multiple Clients"
      ],
      "id": "37AUuDJWYwW5"
    },
    {
      "cell_type": "code",
      "execution_count": 2,
      "metadata": {
        "colab": {
          "base_uri": "https://localhost:8080/"
        },
        "id": "hOJylP7SYwW5",
        "outputId": "a695ca1b-33ca-4858-c9b4-72b603aa9257"
      },
      "outputs": [
        {
          "output_type": "stream",
          "name": "stdout",
          "text": [
            "Client Client_A -> DHCP Discover\n",
            "DHCP Server -> Offer 192.168.1.2 to Client Client_A\n",
            "Client Client_A -> Request 192.168.1.2\n",
            "DHCP Server -> Acknowledge 192.168.1.2 for Client Client_A\n",
            "-\n",
            "Client Client_B -> DHCP Discover\n",
            "DHCP Server -> Offer 192.168.1.4 to Client Client_B\n",
            "Client Client_B -> Request 192.168.1.4\n",
            "DHCP Server -> Acknowledge 192.168.1.4 for Client Client_B\n",
            "-\n",
            "Client Client_C -> DHCP Discover\n",
            "DHCP Server -> Offer 192.168.1.17 to Client Client_C\n",
            "Client Client_C -> Request 192.168.1.17\n",
            "DHCP Server -> Acknowledge 192.168.1.17 for Client Client_C\n",
            "-\n"
          ]
        }
      ],
      "source": [
        "# Define IP pool\n",
        "ip_pool = [f\"192.168.1.{i}\" for i in range(2, 20)]\n",
        "\n",
        "# Start DHCP Server\n",
        "dhcp = DHCPServer(ip_pool)\n",
        "\n",
        "# Simulate 3 clients\n",
        "for client in [\"Client_A\", \"Client_B\", \"Client_C\"]:\n",
        "    offered_ip = dhcp.discover(client)\n",
        "    if offered_ip:\n",
        "        dhcp.request(client, offered_ip)\n",
        "    print(\"-\")"
      ],
      "id": "hOJylP7SYwW5"
    },
    {
      "cell_type": "markdown",
      "metadata": {
        "id": "xZEs4Og1YwW6"
      },
      "source": [
        "## 4. Releasing and Renewing IPs"
      ],
      "id": "xZEs4Og1YwW6"
    },
    {
      "cell_type": "code",
      "execution_count": 3,
      "metadata": {
        "colab": {
          "base_uri": "https://localhost:8080/"
        },
        "id": "gBzXXtEnYwW6",
        "outputId": "3e9ec177-fcf4-48dc-d47b-da600b0cd351"
      },
      "outputs": [
        {
          "output_type": "stream",
          "name": "stdout",
          "text": [
            "Client Client_A released 192.168.1.2\n",
            "Client Client_D -> DHCP Discover\n",
            "DHCP Server -> Offer 192.168.1.5 to Client Client_D\n",
            "Client Client_D -> Request 192.168.1.5\n",
            "DHCP Server -> Acknowledge 192.168.1.5 for Client Client_D\n"
          ]
        }
      ],
      "source": [
        "# Client_A releases IP\n",
        "dhcp.release(\"Client_A\")\n",
        "\n",
        "# New client requests an IP\n",
        "offered_ip = dhcp.discover(\"Client_D\")\n",
        "if offered_ip:\n",
        "    dhcp.request(\"Client_D\", offered_ip)"
      ],
      "id": "gBzXXtEnYwW6"
    },
    {
      "cell_type": "markdown",
      "metadata": {
        "id": "OntBQBnFYwW6"
      },
      "source": [
        "## 5. Quiz & Exercises ✍️\n",
        "1. Modify the pool to simulate a **smaller subnet** (e.g., only 3 IPs). What happens when 4 clients join?\n",
        "2. Add a **lease timer** so that IPs expire after some time.\n",
        "3. Extend the simulation to support **DNS assignment** along with IPs."
      ],
      "id": "OntBQBnFYwW6"
    }
  ],
  "metadata": {
    "kernelspec": {
      "display_name": "Python 3",
      "language": "python",
      "name": "python3"
    },
    "language_info": {
      "name": "python",
      "version": "3.10"
    },
    "colab": {
      "provenance": [],
      "toc_visible": true
    }
  },
  "nbformat": 4,
  "nbformat_minor": 5
}