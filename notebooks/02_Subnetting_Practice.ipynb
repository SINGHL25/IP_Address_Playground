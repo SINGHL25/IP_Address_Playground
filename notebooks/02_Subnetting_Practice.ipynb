
import ipaddress, math

def subnet_info(ip_cidr):
    net = ipaddress.ip_network(ip_cidr, strict=False)
    return {
        'network': str(net.network_address),
        'netmask': str(net.netmask),
        'prefixlen': net.prefixlen,
        'broadcast': str(net.broadcast_address),
        'num_addresses': net.num_addresses,
        'usable_hosts': len(list(net.hosts()))
    }

print(subnet_info('192.168.1.0/26'))

# ## Subnetting exercises
net = ipaddress.ip_network('192.168.0.0/24')
subs = list(net.subnets(new_prefix=26))
for s in subs:
    print(s, 'usable hosts:', len(list(s.hosts())))

# ## Calculate required mask for N hosts
def prefix_for_hosts(n_hosts):
    h = math.ceil(math.log2(n_hosts + 2))
    prefix = 32 - h
    return prefix

for n in [2, 6, 50, 200]:
    print(n, 'hosts -> /' + str(prefix_for_hosts(n)))

# ## Practice problem starter
base = ipaddress.ip_network('10.0.0.0/16')
subnets = list(base.subnets(new_prefix=20))
print('Number of /20 subnets in /16:', len(subnets))
for i, s in enumerate(subnets[:10],1):
    print(i, s)

# ## Visualization (simple text-based)
for i, s in enumerate(subs):
    print(f"Subnet {i}: {s.network_address}/{s.prefixlen} - broadcast {s.broadcast_address}")

