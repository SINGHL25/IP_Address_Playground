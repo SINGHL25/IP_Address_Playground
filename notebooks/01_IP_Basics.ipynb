# ============================================================
# 01_IP_Basics.ipynb
# ============================================================

# # 01_IP_Basics
# Goal: Introduce IP addressing fundamentals (IPv4).

# ## What is an IP address?
# An IP address uniquely identifies a host on an IP network.

ip = '192.168.1.10'
octets = ip.split('.')
binary = '.'.join(f"{int(o):08b}" for o in octets)
print(f"IP: {ip}")
print(f"Binary: {binary}")

# ## IP Classes (A, B, C, D, E)
import ipaddress
def identify_ip_class(ip: str) -> str:
    try:
        ip_obj = ipaddress.IPv4Address(ip)
    except Exception:
        raise ValueError('Invalid IPv4 address')
    first = int(str(ip).split('.')[0])
    if 1 <= first <= 126: return 'A'
    if first == 127: return 'Loopback (127.x.x.x)'
    if 128 <= first <= 191: return 'B'
    if 192 <= first <= 223: return 'C'
    if 224 <= first <= 239: return 'D (Multicast)'
    if 240 <= first <= 254: return 'E (Reserved)'
    return 'Unknown'

for test in ['10.0.0.1','172.16.0.1','192.168.1.1','224.0.0.1','240.0.0.1']:
    print(test, '→', identify_ip_class(test))

# ## Private vs Public IP ranges
examples = ['10.1.2.3','8.8.8.8','192.168.1.5']
for e in examples:
    a = ipaddress.ip_address(e)
    print(e, '→', 'private' if a.is_private else 'public')

# ## Network, Host and Broadcast addresses
net = ipaddress.ip_network('192.168.1.10/28', strict=False)
print('Network:', net.network_address)
print('Broadcast:', net.broadcast_address)
print('Number of addresses:', net.num_addresses)
print('Usable hosts:', len(list(net.hosts())))

# ## Exercise: Validate an IP
def analyze_ip(ip):
    try:
        if ':' in ip:
            ipaddress.IPv6Address(ip)
            print(ip, '→ IPv6')
        else:
            ipaddress.IPv4Address(ip)
            print(ip, '→ IPv4, class', identify_ip_class(ip),
                  ',', ('private' if ipaddress.ip_address(ip).is_private else 'public'))
    except Exception:
        print('Invalid IP:', ip)

analyze_ip('192.168.0.1')
analyze_ip('2001:0db8::1')
analyze_ip('300.1.1.1')

# ## Visualization: binary breakdown
import matplotlib.pyplot as plt
ip = '192.168.1.10'
octets = [int(x) for x in ip.split('.')]
plt.figure(figsize=(6,3))
plt.bar(range(4), octets)
plt.xticks(range(4), ['octet1','octet2','octet3','octet4'])
plt.title('IPv4 octets (decimal)')
plt.ylabel('Value')
plt.tight_layout()
plt.show()


