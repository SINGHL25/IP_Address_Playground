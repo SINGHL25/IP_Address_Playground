##Cell 1 — Markdown
# 01_IP_Basics

##**Goal:** Introduce IP addressing fundamentals (IPv4).

##Cell 2 — Markdown
## What is an IP address?

##An IP address uniquely identifies a host on an IP network. This notebook covers IPv4 dotted-decimal representation and binary breakdown.

##Cell 3 — Code
# Example: showing dotted decimal and binary form of an IPv4 address
ip = '192.168.1.10'
octets = ip.split('.')
binary = '.'.join(f"{int(o):08b}" for o in octets)
print(f"IP: {ip}")
print(f"Binary: {binary}")

##Cell 4 — Markdown
## IP Classes (A, B, C, D, E)

##Classful addressing ranges (historical) — used for teaching and classification. We'll write a small function to identify class.

##Cell 5 — Code
import ipaddress

def identify_ip_class(ip: str) -> str:
    try:
        ip_obj = ipaddress.IPv4Address(ip)
    except Exception:
        raise ValueError('Invalid IPv4 address')
    first = int(str(ip).split('.')[0])
    if 1 <= first <= 126:
        return 'A'
    if first == 127:
        return 'Loopback (127.x.x.x)'
    if 128 <= first <= 191:
        return 'B'
    if 192 <= first <= 223:
        return 'C'
    if 224 <= first <= 239:
        return 'D (Multicast)'
    if 240 <= first <= 254:
        return 'E (Reserved)'
    return 'Unknown'

# Try examples
for test in ['10.0.0.1','172.16.0.1','192.168.1.1','224.0.0.1','240.0.0.1']:
    print(test, '→', identify_ip_class(test))

##Cell 6 — Markdown
## Private vs Public IP ranges

##Common private ranges:
##- 10.0.0.0/8
##- 172.16.0.0/12
##- 192.168.0.0/16

##We'll show how to check if an IP is private with `ipaddress` module.

##Cell 7 — Code
import ipaddress

examples = ['10.1.2.3','8.8.8.8','192.168.1.5']
for e in examples:
    a = ipaddress.ip_address(e)
    print(e, '→', 'private' if a.is_private else 'public')

##Cell 8 — Markdown
## Network, Host and Broadcast addresses

##Given an IP and mask, find the network and broadcast addresses using `ipaddress.ip_network`.

##Cell 9 — Code
import ipaddress
net = ipaddress.ip_network('192.168.1.10/28', strict=False)
print('Network:', net.network_address)
print('Broadcast:', net.broadcast_address)
print('Number of addresses:', net.num_addresses)
print('Usable hosts:', len(list(net.hosts())))

##Cell 10 — Markdown
### Exercise

##- Validate an IP and print whether it's IPv4 or IPv6.
##- Print its class and whether it's private or public.

##Cell 11 — Code
# Exercise solution
import ipaddress

def analyze_ip(ip):
    try:
        if ':' in ip:
            ipaddress.IPv6Address(ip)
            print(ip, '→ IPv6')
        else:
            ipaddress.IPv4Address(ip)
            print(ip, '→ IPv4, class', identify_ip_class(ip), ',', ('private' if ipaddress.ip_address(ip).is_private else 'public'))
    except Exception as e:
        print('Invalid IP:', ip)

analyze_ip('192.168.0.1')
analyze_ip('2001:0db8::1')
analyze_ip('300.1.1.1')

##Cell 12 — Markdown
### Visualization: binary breakdown

##We'll show a simple matplotlib bar plot of the octets in decimal.

##Cell 13 — Code
# Simple visualization using matplotlib
import matplotlib.pyplot as plt
ip = '192.168.1.10'
octets = [int(x) for x in ip.split('.')]
plt.figure(figsize=(6,3))
plt.bar(range(4), octets)
plt.xticks(range(4), ['octet1','octet2','octet3','octet4'])
plt.title('IPv4 octets (decimal)')
plt.ylabel('Value')
plt.tight_layout()
plt.show()

